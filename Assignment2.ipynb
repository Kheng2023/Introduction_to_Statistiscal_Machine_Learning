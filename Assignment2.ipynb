{
 "cells": [
  {
   "cell_type": "code",
   "execution_count": 1,
   "metadata": {},
   "outputs": [],
   "source": [
    "import numpy as np\n",
    "import cvxpy as cp\n",
    "import pandas as pd"
   ]
  },
  {
   "cell_type": "code",
   "execution_count": 2,
   "metadata": {},
   "outputs": [],
   "source": [
    "train_set = pd.read_csv('train.csv', header=None)\n",
    "test_set = pd.read_csv('test.csv', header=None)"
   ]
  },
  {
   "cell_type": "code",
   "execution_count": 3,
   "metadata": {},
   "outputs": [
    {
     "name": "stdout",
     "output_type": "stream",
     "text": [
      "(4000, 200)\n",
      "(4000,)\n",
      "(4500, 200)\n",
      "(4500,)\n",
      "(1500, 200)\n",
      "(1500,)\n"
     ]
    }
   ],
   "source": [
    "X_train = train_set.iloc[:4000, 1:].to_numpy() # the first 4000 samples as training set\n",
    "y_train = train_set.iloc[:4000, 0].to_numpy() # first column is the class label\n",
    "y_train[y_train==0] = -1 # Change 0 to -1\n",
    "print(X_train.shape)\n",
    "print(y_train.shape)\n",
    "X_validate = train_set.iloc[4000:, 1:].to_numpy()\n",
    "y_validate = train_set.iloc[4000:, 0].to_numpy()\n",
    "y_validate[y_validate==0] = -1\n",
    "print(X_validate.shape)\n",
    "print(y_validate.shape)\n",
    "X_test = test_set.iloc[:, 1:].to_numpy()\n",
    "y_test = test_set.iloc[:, 0].to_numpy()\n",
    "y_test[y_test==0] = -1\n",
    "print(X_test.shape)\n",
    "print(y_test.shape)"
   ]
  },
  {
   "cell_type": "code",
   "execution_count": 4,
   "metadata": {},
   "outputs": [
    {
     "name": "stdout",
     "output_type": "stream",
     "text": [
      "Solution of b: 1.7798137266344365\n",
      "Sum of all dimensions of W solution: -0.14521544474819548\n",
      "test accuracy: 0.968\n"
     ]
    }
   ],
   "source": [
    "def svm_train_primal(data_train, label_train, regularisation_para_C):\n",
    "    m, n = data_train.shape\n",
    "    \n",
    "    W = cp.Variable(n) \n",
    "    b = cp.Variable()    \n",
    "    Psi = cp.Variable(m) \n",
    "    \n",
    "    C = regularisation_para_C\n",
    "    \n",
    "    objective = cp.Minimize(0.5 * cp.norm(W)**2 + C/m * cp.sum(Psi))\n",
    "    \n",
    "    constraints = [cp.multiply(label_train, (data_train @ W + b)) - 1 + Psi >= 0, Psi >= 0]\n",
    "    \n",
    "    prob = cp.Problem(objective, constraints)\n",
    "    prob.solve()\n",
    "    \n",
    "    return W.value, b.value, Psi.value\n",
    "\n",
    "def svm_predict_primal(data_test, label_test, svm_model):\n",
    "    W, b, _ = svm_model \n",
    "    result = data_test @ W + b\n",
    "    result = np.sign(result)\n",
    "    accuracy = np.mean(result == label_test)\n",
    "    return accuracy\n",
    "\n",
    "primal_model = svm_train_primal(X_train, y_train, 100)\n",
    "W_primal, b_primal, Psi_primal = primal_model\n",
    "test_accuracy = svm_predict_primal(X_test, y_test, primal_model)\n",
    "print(\"Solution of b:\", b_primal)\n",
    "print(\"Sum of all dimensions of W solution:\", np.sum(W_primal))\n",
    "print(\"test accuracy:\", test_accuracy)"
   ]
  },
  {
   "cell_type": "code",
   "execution_count": 5,
   "metadata": {},
   "outputs": [
    {
     "name": "stdout",
     "output_type": "stream",
     "text": [
      "Sum of all dimensions of alpha solution: 7.281635914644138\n"
     ]
    }
   ],
   "source": [
    "def svm_train_dual(data_train, label_train, regularisation_para_C):\n",
    "    N = len(data_train)\n",
    "    alpha = cp.Variable(N)\n",
    "\n",
    "    quadratic_term = cp.sum_squares(data_train.T@cp.multiply(alpha, label_train))\n",
    "\n",
    "    objective = cp.Maximize(cp.sum(alpha) - 0.5 * quadratic_term)\n",
    "    \n",
    "    constraints = [\n",
    "        0 <= alpha,                \n",
    "        alpha <= regularisation_para_C/N, \n",
    "        cp.sum(cp.multiply(alpha, label_train)) == 0 \n",
    "    ]\n",
    "    \n",
    "    prob = cp.Problem(objective, constraints)\n",
    "    prob.solve(solver=cp.CVXOPT)\n",
    "    \n",
    "    alpha_values = alpha.value\n",
    "    \n",
    "    return alpha_values\n",
    "\n",
    "dual_model = svm_train_dual (X_train, y_train, 100)\n",
    "print(\"Sum of all dimensions of alpha solution:\", np.sum(dual_model))"
   ]
  },
  {
   "cell_type": "code",
   "execution_count": 6,
   "metadata": {},
   "outputs": [
    {
     "name": "stdout",
     "output_type": "stream",
     "text": [
      "Solution of b: 1.740571633690616\n",
      "Sum of all dimensions of W solution: -0.14520561643482588\n"
     ]
    }
   ],
   "source": [
    "def primal_solution_from_dual(data_train, label_train, alpha_values, regularisation_para_C):  \n",
    "  N = len(data_train)\n",
    "\n",
    "  w = np.sum(alpha_values[:, None] * label_train[:, None] * data_train, axis=0)\n",
    "\n",
    "  # Find support vectors (where 0 < alpha_i <= C)\n",
    "  sv_indices = np.where((alpha_values > 0) & (alpha_values <= regularisation_para_C/N))\n",
    "\n",
    "  # b* = y_i - w^T * x_i \n",
    "  b = np.mean(label_train[sv_indices] - np.dot(data_train[sv_indices], w))\n",
    "\n",
    "  return w, b\n",
    "\n",
    "primal_from_dual_model = primal_solution_from_dual(X_train, y_train, dual_model, 100)\n",
    "W_dual, b_dual = primal_from_dual_model\n",
    "print(\"Solution of b:\", b_dual)\n",
    "print(\"Sum of all dimensions of W solution:\", np.sum(W_dual))"
   ]
  },
  {
   "cell_type": "code",
   "execution_count": 7,
   "metadata": {},
   "outputs": [
    {
     "name": "stdout",
     "output_type": "stream",
     "text": [
      "Support vectors from primal: 392\n"
     ]
    },
    {
     "data": {
      "text/plain": [
       "array([[-0.36, -0.91, -0.99, ...,  0.3 ,  2.44, -1.26],\n",
       "       [ 1.05, -1.79,  0.9 , ...,  0.39,  0.6 , -1.66],\n",
       "       [ 1.01, -1.13,  1.49, ...,  0.23, -0.3 , -0.01],\n",
       "       ...,\n",
       "       [ 2.16, -0.78, -0.78, ..., -0.38,  1.1 ,  0.39],\n",
       "       [ 0.36, -0.19, -1.06, ..., -0.83, -0.2 ,  0.12],\n",
       "       [-0.73, -1.19, -0.24, ...,  1.46, -1.36,  1.21]])"
      ]
     },
     "execution_count": 7,
     "metadata": {},
     "output_type": "execute_result"
    }
   ],
   "source": [
    "def find_support_vectors_from_primal(data_train, label_train, svm_model):\n",
    "    W, b, Psi = svm_model\n",
    "\n",
    "    decision_margin = label_train * (data_train @ W + b)\n",
    "    margin_threshold = 1e-5\n",
    "    #soft margin, so must remember to include slack variable, previously obtained 180 because only calculated hard margin\n",
    "    support_vector_indices = np.where((Psi > margin_threshold) | (np.abs(decision_margin - (1 - Psi)) < margin_threshold))\n",
    "    return data_train[support_vector_indices]\n",
    "\n",
    "vectors_primal = find_support_vectors_from_primal(X_train, y_train, primal_model)\n",
    "print(\"Support vectors from primal:\", len(vectors_primal))\n",
    "vectors_primal"
   ]
  },
  {
   "cell_type": "code",
   "execution_count": 8,
   "metadata": {},
   "outputs": [
    {
     "name": "stdout",
     "output_type": "stream",
     "text": [
      "Support vectors from dual: 392\n"
     ]
    },
    {
     "data": {
      "text/plain": [
       "array([[-0.36, -0.91, -0.99, ...,  0.3 ,  2.44, -1.26],\n",
       "       [ 1.05, -1.79,  0.9 , ...,  0.39,  0.6 , -1.66],\n",
       "       [ 1.01, -1.13,  1.49, ...,  0.23, -0.3 , -0.01],\n",
       "       ...,\n",
       "       [ 2.16, -0.78, -0.78, ..., -0.38,  1.1 ,  0.39],\n",
       "       [ 0.36, -0.19, -1.06, ..., -0.83, -0.2 ,  0.12],\n",
       "       [-0.73, -1.19, -0.24, ...,  1.46, -1.36,  1.21]])"
      ]
     },
     "execution_count": 8,
     "metadata": {},
     "output_type": "execute_result"
    }
   ],
   "source": [
    "def find_support_vectors_from_dual(data_train, alpha_values, margin_threshold=1e-5):\n",
    "    support_vector_indices = np.where(alpha_values > margin_threshold)[0]\n",
    "    return data_train[support_vector_indices]\n",
    "\n",
    "vectors_dual = find_support_vectors_from_dual(X_train, dual_model)\n",
    "print(\"Support vectors from dual:\", len(vectors_dual))\n",
    "vectors_dual"
   ]
  },
  {
   "cell_type": "code",
   "execution_count": 17,
   "metadata": {},
   "outputs": [
    {
     "name": "stdout",
     "output_type": "stream",
     "text": [
      "C: 0.0009765625, Accuracy: 0.4909\n",
      "C: 0.00390625, Accuracy: 0.4909\n",
      "C: 0.015625, Accuracy: 0.4909\n",
      "C: 0.0625, Accuracy: 0.9244\n",
      "C: 0.25, Accuracy: 0.9622\n",
      "C: 1, Accuracy: 0.9718\n",
      "C: 4, Accuracy: 0.9749\n",
      "C: 16, Accuracy: 0.9740\n",
      "C: 64, Accuracy: 0.9713\n",
      "C: 256, Accuracy: 0.9660\n",
      "C: 1024, Accuracy: 0.9627\n",
      "\n",
      "Validation accuracy from optimal C: 0.9748888888888889\n",
      "Optimal C: 4\n",
      "\n",
      "Test Accuracy using optimal C: 0.9746666666666667\n"
     ]
    }
   ],
   "source": [
    "C_ranges = [2**i for i in range (-10, 11, 2)]\n",
    "best_C = None\n",
    "best_accuracy = -1\n",
    "\n",
    "for C in C_ranges:\n",
    "    model = svm_train_primal(X_train, y_train, C)\n",
    "    current_accuracy = svm_predict_primal(X_validate, y_validate, model)\n",
    "    if current_accuracy > best_accuracy:\n",
    "        best_accuracy = current_accuracy\n",
    "        best_C = C\n",
    "    print(f\"C: {C}, Accuracy: {current_accuracy:.4f}\")\n",
    "\n",
    "print ('\\nValidation accuracy from optimal C:',best_accuracy)\n",
    "print ('Optimal C:', best_C)\n",
    "\n",
    "model = svm_train_primal(X_train, y_train, best_C)\n",
    "test_accuracy = svm_predict_primal(X_test, y_test, model)\n",
    "print('\\nTest Accuracy using optimal C:', test_accuracy)"
   ]
  },
  {
   "cell_type": "code",
   "execution_count": 10,
   "metadata": {},
   "outputs": [
    {
     "name": "stdout",
     "output_type": "stream",
     "text": [
      "Test accuracy using optimal C from previous question: 0.9713333333333334\n",
      "Optimal C: 4\n"
     ]
    }
   ],
   "source": [
    "from sklearn.svm import LinearSVC\n",
    "from sklearn.metrics import accuracy_score\n",
    "\n",
    "svm = LinearSVC(C=best_C) #optimal C from previous question\n",
    "svm.fit(X_train, y_train)\n",
    "y_pred = svm.predict(X_test)\n",
    "accuracy = accuracy_score(y_test, y_pred)\n",
    "\n",
    "print(\"Test accuracy using optimal C from previous question:\", accuracy)\n",
    "print ('Optimal C:', best_C)"
   ]
  },
  {
   "cell_type": "code",
   "execution_count": 16,
   "metadata": {},
   "outputs": [
    {
     "name": "stdout",
     "output_type": "stream",
     "text": [
      "C: 0.0009765625, Accuracy: 0.9644\n",
      "C: 0.00390625, Accuracy: 0.9667\n",
      "C: 0.015625, Accuracy: 0.9660\n",
      "C: 0.0625, Accuracy: 0.9653\n",
      "C: 0.25, Accuracy: 0.9649\n",
      "C: 1, Accuracy: 0.9640\n",
      "C: 4, Accuracy: 0.9640\n",
      "C: 16, Accuracy: 0.9638\n",
      "C: 64, Accuracy: 0.9636\n",
      "C: 256, Accuracy: 0.9633\n",
      "C: 1024, Accuracy: 0.9633\n",
      "\n",
      "Validation accuracy using sklearn: 0.9666666666666667\n",
      "Optimal C using sklearn: 0.00390625\n",
      "\n",
      "Test Accuracy using sklearn: 0.968\n"
     ]
    }
   ],
   "source": [
    "#search best C using sklearn\n",
    "C_ranges = [2**i for i in range(-10, 11, 2)]\n",
    "best_C = None\n",
    "best_accuracy = -1\n",
    "\n",
    "for C in C_ranges:\n",
    "    svm = LinearSVC(C=C)\n",
    "    svm.fit(X_train, y_train)\n",
    "    y_pred_val = svm.predict(X_validate)\n",
    "    current_accuracy = accuracy_score(y_validate, y_pred_val)\n",
    "    if current_accuracy > best_accuracy:\n",
    "        best_accuracy = current_accuracy\n",
    "        best_C = C\n",
    "    print(f\"C: {C}, Accuracy: {current_accuracy:.4f}\")\n",
    "\n",
    "print('\\nValidation accuracy using sklearn:', best_accuracy)\n",
    "print('Optimal C using sklearn:', best_C)\n",
    "\n",
    "svm = LinearSVC(C=best_C)\n",
    "svm.fit(X_train, y_train)\n",
    "y_pred_test = svm.predict(X_test)\n",
    "test_accuracy = accuracy_score(y_test, y_pred_test) \n",
    "print('\\nTest Accuracy using sklearn:', test_accuracy)"
   ]
  },
  {
   "cell_type": "code",
   "execution_count": null,
   "metadata": {},
   "outputs": [],
   "source": []
  }
 ],
 "metadata": {
  "kernelspec": {
   "display_name": "base",
   "language": "python",
   "name": "python3"
  },
  "language_info": {
   "codemirror_mode": {
    "name": "ipython",
    "version": 3
   },
   "file_extension": ".py",
   "mimetype": "text/x-python",
   "name": "python",
   "nbconvert_exporter": "python",
   "pygments_lexer": "ipython3",
   "version": "3.11.9"
  }
 },
 "nbformat": 4,
 "nbformat_minor": 2
}
